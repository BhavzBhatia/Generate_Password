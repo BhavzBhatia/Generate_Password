{
 "cells": [
  {
   "cell_type": "markdown",
   "id": "7780a31d",
   "metadata": {},
   "source": [
    "\n",
    "### __________________Tasks_________________\n",
    "\n",
    "'''\n",
    "Create a program to generate passwords for you.\n",
    "\n",
    "You have to create a Program that asks user total passwords he needed and the length of them.\n",
    "\n",
    "Sample Shown in Folder\n",
    "\n",
    "'''\n",
    "\n",
    "\n"
   ]
  },
  {
   "cell_type": "code",
   "execution_count": 12,
   "id": "1535a913",
   "metadata": {},
   "outputs": [
    {
     "name": "stdout",
     "output_type": "stream",
     "text": [
      "What is the length of the password required ? - 10\n",
      "How many passwords are required ? - 5\n"
     ]
    }
   ],
   "source": [
    "length = int(input(\"What is the length of the password required ? - \"))\n",
    "num = int(input(\"How many passwords are required ? - \"))"
   ]
  },
  {
   "cell_type": "code",
   "execution_count": 24,
   "id": "3a088a7c",
   "metadata": {},
   "outputs": [],
   "source": [
    "import random\n",
    "import string\n"
   ]
  },
  {
   "cell_type": "code",
   "execution_count": 29,
   "id": "15cbd2b9",
   "metadata": {},
   "outputs": [
    {
     "name": "stdout",
     "output_type": "stream",
     "text": [
      "{1: '3Qp)5Yp`hu'}\n",
      "{2: \"4Zt&0Xr'jc\"}\n",
      "{3: '3No_4Mf<zs'}\n",
      "{4: '6Lu&1Sn>ke'}\n",
      "{5: '2Pr~9Ym\\\\ev'}\n"
     ]
    }
   ],
   "source": [
    "for i in range(1 , num + 1) :\n",
    "    print({i : f\"{random.randint(0,9)}{random.choice(string.ascii_uppercase)}{random.choice(string.ascii_lowercase)}{random.choice(string.punctuation)}{random.randint(0,9)}{random.choice(string.ascii_uppercase)}{random.choice(string.ascii_lowercase)}{random.choice(string.punctuation)}{random.choice(string.ascii_lowercase)}{random.choice(string.ascii_lowercase)}\" })"
   ]
  },
  {
   "cell_type": "code",
   "execution_count": null,
   "id": "75e75ee7",
   "metadata": {},
   "outputs": [],
   "source": []
  }
 ],
 "metadata": {
  "kernelspec": {
   "display_name": "Python 3 (ipykernel)",
   "language": "python",
   "name": "python3"
  },
  "language_info": {
   "codemirror_mode": {
    "name": "ipython",
    "version": 3
   },
   "file_extension": ".py",
   "mimetype": "text/x-python",
   "name": "python",
   "nbconvert_exporter": "python",
   "pygments_lexer": "ipython3",
   "version": "3.9.13"
  }
 },
 "nbformat": 4,
 "nbformat_minor": 5
}
